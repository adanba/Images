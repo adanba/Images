{
 "cells": [
  {
   "cell_type": "markdown",
   "metadata": {},
   "source": [
    "# Exercice :\n",
    "\n",
    "\n",
    "### Par : Abdelhadi DANBA\n"
   ]
  },
  {
   "cell_type": "markdown",
   "metadata": {},
   "source": [
    "J'ai essayé de modélisé le problème en utilisant une approche graphe.\n",
    "\n",
    "Ensuite nous allons facilement appliquer les algorithmes de parcours d'arbre afin de trouver l'optimum.\n",
    "\n",
    "L'optimum ici correspond à la combinaison d'offre maximisant la pertinence.\n",
    "\n",
    "\n",
    "**NB:** Dans un premier temps nous avons utilisé une approche itérative (draft), une fois la difficulté du problème assimulée, nous avons passé à un niveau de modélisation avancé et abstrait (en utilisant des class), pour la restitution finale.\n",
    "\n",
    "\n",
    "\n"
   ]
  },
  {
   "cell_type": "markdown",
   "metadata": {},
   "source": [
    "\n",
    "    \n",
    "![Graphe Offre : ](https://raw.githubusercontent.com/adanba/Images/master/graphe_offre.png)"
   ]
  },
  {
   "cell_type": "markdown",
   "metadata": {},
   "source": [
    "## Objet Offre : \n",
    "\n",
    "L'object **Offre** correspond à l'offre parcouru par le prospect.\n",
    "Cette dernière est caractérisée par :\n",
    "\n",
    "* Un nom \n",
    "* Une valeur de pertinence"
   ]
  },
  {
   "cell_type": "code",
   "execution_count": 62,
   "metadata": {
    "collapsed": true
   },
   "outputs": [],
   "source": [
    "class Offre(object):\n",
    "    def __init__(self, name,value):\n",
    "        \"\"\" Assumes name is a string\n",
    "            Assumes value is a int\n",
    "        \"\"\"\n",
    "        self.name = name\n",
    "        self.value = value\n",
    "    def getName(self):\n",
    "        return self.name\n",
    "    def getValue(self):\n",
    "        return self.value\n",
    "    def __str__(self):\n",
    "        return self.name\n"
   ]
  },
  {
   "cell_type": "markdown",
   "metadata": {},
   "source": [
    "## Objet Edge : \n",
    "\n",
    "\n",
    "Cette classe permet de modéliser s'il existe, le passage d'une offre à une autre, ce qu'on appelle arête en théorie des graphe."
   ]
  },
  {
   "cell_type": "code",
   "execution_count": 63,
   "metadata": {
    "collapsed": true
   },
   "outputs": [],
   "source": [
    "\n",
    "class Edge(object):\n",
    "    def __init__(self, src, dest):\n",
    "        \"\"\"Assumes src and dest are nodes (class Offre)\"\"\"\n",
    "        self.src = src\n",
    "        self.dest = dest\n",
    "    def getSource(self):\n",
    "        return self.src\n",
    "    def getDestination(self):\n",
    "        return self.dest\n",
    "    def __str__(self):\n",
    "        return self.src.getName() + '->' + self.dest.getName()\n",
    "               "
   ]
  },
  {
   "cell_type": "markdown",
   "metadata": {},
   "source": [
    "## Objet Parcours : \n",
    "\n",
    "La classe **Parcours** est un graphe dont les noeuds coresspandent aux **Offres**\n",
    "\n",
    "**Parcours** est utilisée pour modéliser tous les parcours possibles du prospect.\n",
    "\n",
    "\n",
    "\n",
    "\n",
    "\n"
   ]
  },
  {
   "cell_type": "code",
   "execution_count": 64,
   "metadata": {
    "collapsed": true
   },
   "outputs": [],
   "source": [
    "class Parcours(object):\n",
    "    \"\"\" edges is a dict mapping each node to a list of its children\"\"\"\n",
    "    \n",
    "    def __init__(self):\n",
    "        \"\"\"Constructeur de la classe\"\"\"\n",
    "        self.edges = {}\n",
    "        \n",
    "    def addOffre(self, offre):\n",
    "        \"\"\"Rajouter une offre (un noeud) au graphe\"\"\"\n",
    "        if offre in self.edges:\n",
    "            raise ValueError('Duplicate offre')\n",
    "        else:\n",
    "            self.edges[offre] = []\n",
    "\n",
    "    def getOffre(self, name):\n",
    "        \"\"\"Récupérer une offre (un noeud) à partir de son nom au graphe\"\"\"\n",
    "        for offre in self.edges:\n",
    "            if offre.getName() == name:\n",
    "                return offre\n",
    "        raise NameError(name)\n",
    "\n",
    "    def addEdge(self, edge):\n",
    "        \"\"\"Rajouter un chemin orienté entre deux offres (noeuds) du graphe\"\"\"\n",
    "        src = edge.getSource()\n",
    "        dest = edge.getDestination()\n",
    "        if not (src in self.edges and dest in self.edges):\n",
    "            raise ValueError('Offre not in graph')\n",
    "        self.edges[src].append(dest)\n",
    "\n",
    "    def childrenOf(self, offre):\n",
    "        \"\"\"Recupérer les offres filles (suivantes) d'une offre (noeud) au graphe\"\"\"\n",
    "        return self.edges[offre]\n",
    "    \n",
    "    def hasOffre(self, offre):\n",
    "        \"\"\"Voir si une offre (noeud) existe dans le graphe\"\"\"\n",
    "        return offre in self.edges\n",
    "    \n",
    "    def __str__(self):\n",
    "        \"\"\"Permet de faire des output text jolie de notre graphe \"\"\"\n",
    "        result = ''\n",
    "        for src in self.edges:\n",
    "            for dest in self.edges[src]:\n",
    "                result = result + src.getName() + '->'\\\n",
    "                         + dest.getName() + '\\n'\n",
    "        return result[:-1]\n"
   ]
  },
  {
   "cell_type": "markdown",
   "metadata": {},
   "source": [
    "## Construction du graphe :\n",
    "\n",
    "La fonction **buildOffreParcour** permet de créer le graphe correspandant, à partir d'une liste d'offres successives.\n",
    "\n",
    "Cette fonction intégrer la possibilité de changer le saut, c-à-d le nombre d'offres possible à ignorer.\n",
    "\n",
    "Les arrêtes du graphe d'offres sont déterministes en fonction de la règle de saut adoptée.\n"
   ]
  },
  {
   "cell_type": "code",
   "execution_count": 66,
   "metadata": {
    "collapsed": true
   },
   "outputs": [],
   "source": [
    "def buildOffreParcour(offres, n_rollement=4):\n",
    "    \"\"\"Construit le graphe d'offres à partir d'une liste d'Offres\"\"\"\n",
    "    g = Parcours()\n",
    "    for name in range(len(offres)): \n",
    "        g.addOffre(Offre(str(name), offres[name]))\n",
    "    for start_offre in range(len(offres)):\n",
    "        #print \"====> Node : \", start_offre\n",
    "        for next_offre in range(start_offre + 1, start_offre + 2 + n_rollement):\n",
    "            if next_offre + 1 > len(offres):\n",
    "                #print \"Break Next Node : \", next_offre\n",
    "                break\n",
    "            #print \"========> Next Node : \", next_offre\n",
    "            g.addEdge(Edge(g.getOffre(str(start_offre)), g.getOffre(str(next_offre))))\n",
    "    return g\n"
   ]
  },
  {
   "cell_type": "markdown",
   "metadata": {},
   "source": [
    "## Fonctions utilitaires\n",
    "\n",
    "* La fonction **Pertinence** :  calcule la Pertinence **d'un parcours prospect**, c-à-d un chemin d'offres  (liste d'offres)\n",
    "\n",
    "\n",
    "* La fonction **printPath** : permet de faire des outputs texte d'un parcours. "
   ]
  },
  {
   "cell_type": "code",
   "execution_count": 67,
   "metadata": {},
   "outputs": [],
   "source": [
    "def Pertinence(Parcours, chemin):\n",
    "    \"\"\"Calcul la pertinence d'un chemin (parcours prospect)\"\"\"\n",
    "    result = 0\n",
    "    for name_offre in chemin:\n",
    "        result += Parcours.getOffre(name_offre).getValue()\n",
    "    return result \n",
    "\n",
    "\n",
    "def printPathOffres(Parcours, chemin):\n",
    "    \"\"\"On suppose que chemin est une liste d'offres\"\"\"\n",
    "    result = ''\n",
    "    for i in range(len(chemin)):\n",
    "        result = result + Parcours.getOffre(chemin[i]).getName()\n",
    "        if i != len(chemin) - 1:\n",
    "            result = result + '->'\n",
    "    return result"
   ]
  },
  {
   "cell_type": "markdown",
   "metadata": {},
   "source": [
    "## Algorithme DFS (Depth First Search) :\n",
    "\n",
    "\n",
    "Nous avons utilisé l'algorithme de parcours en profondeur (DFS), pour trouver le chemin qui maximise la pertinence en partant de la première offre jusqu'à la dernière.\n",
    "\n"
   ]
  },
  {
   "cell_type": "code",
   "execution_count": 68,
   "metadata": {
    "collapsed": true
   },
   "outputs": [],
   "source": [
    "def DFS(parcours, start_offre, end_offre, chemin, cheminPertinent, toPrint = False):\n",
    "    \"\"\" On suppose parcours une instance de Parcours graph;\n",
    "        chemin and cheminPertinent sont des listes d'offres\n",
    "        start_offre et end_offre sont des Offres (nodes);\n",
    "        retourne cheminPertinent qui maximise la pertinence \n",
    "        et ce en allant de start_offre à end_offre\"\"\"\n",
    "    \n",
    "    chemin = chemin + [start_offre]\n",
    "    \n",
    "    if toPrint:\n",
    "        print('Current DFS path:', printPathOffres(parcours, chemin), \"    Value : \", Pertinence(parcours, chemin))\n",
    "    \n",
    "    if start_offre == end_offre:\n",
    "        return chemin\n",
    "    \n",
    "    for offre in parcours.childrenOf(parcours.getOffre(start_offre)):\n",
    "        newChemin = DFS(parcours, offre.getName(), end_offre, chemin, cheminPertinent, toPrint)\n",
    "        if newChemin != None:\n",
    "            if cheminPertinent == None or Pertinence(parcours, newChemin) > Pertinence(parcours, cheminPertinent):\n",
    "                cheminPertinent = newChemin \n",
    "\n",
    "    return cheminPertinent\n",
    "\n",
    "\n",
    "def pertinenceMaximale(parcours, start_offre, end_offre, toPrint = False):\n",
    "    \"\"\" On suppose que parcours une instance de Parcours graph; \n",
    "        start_offre et end_offre sont des Offres (nodes);\n",
    "        retourne cheminPertinent qui maximise la pertinence \n",
    "        et ce en allant de start_offre à end_offre\"\"\"\n",
    "    return DFS(parcours, start_offre, end_offre, [], None, toPrint)\n"
   ]
  },
  {
   "cell_type": "markdown",
   "metadata": {},
   "source": [
    "# Exemple 1 :\n",
    "\n",
    "\n",
    "Exemple sur une liste de 6 offres  (fourni dans ** offres.txt**)"
   ]
  },
  {
   "cell_type": "code",
   "execution_count": 84,
   "metadata": {},
   "outputs": [],
   "source": [
    "listOffres = [1,0,-1,3,-1,-2]\n",
    "\n",
    "parcours = buildOffreParcour(listOffres)"
   ]
  },
  {
   "cell_type": "code",
   "execution_count": 85,
   "metadata": {
    "scrolled": false
   },
   "outputs": [
    {
     "name": "stdout",
     "output_type": "stream",
     "text": [
      "('Current DFS path:', '0', '    Value : ', 1)\n",
      "('Current DFS path:', '0->1', '    Value : ', 1)\n",
      "('Current DFS path:', '0->1->2', '    Value : ', 0)\n",
      "('Current DFS path:', '0->1->2->3', '    Value : ', 3)\n",
      "('Current DFS path:', '0->1->2->3->4', '    Value : ', 2)\n",
      "('Current DFS path:', '0->1->2->3->4->5', '    Value : ', 0)\n",
      "('Current DFS path:', '0->1->2->3->5', '    Value : ', 1)\n",
      "('Current DFS path:', '0->1->2->4', '    Value : ', -1)\n",
      "('Current DFS path:', '0->1->2->4->5', '    Value : ', -3)\n",
      "('Current DFS path:', '0->1->2->5', '    Value : ', -2)\n",
      "('Current DFS path:', '0->1->3', '    Value : ', 4)\n",
      "('Current DFS path:', '0->1->3->4', '    Value : ', 3)\n",
      "('Current DFS path:', '0->1->3->4->5', '    Value : ', 1)\n",
      "('Current DFS path:', '0->1->3->5', '    Value : ', 2)\n",
      "('Current DFS path:', '0->1->4', '    Value : ', 0)\n",
      "('Current DFS path:', '0->1->4->5', '    Value : ', -2)\n",
      "('Current DFS path:', '0->1->5', '    Value : ', -1)\n",
      "('Current DFS path:', '0->2', '    Value : ', 0)\n",
      "('Current DFS path:', '0->2->3', '    Value : ', 3)\n",
      "('Current DFS path:', '0->2->3->4', '    Value : ', 2)\n",
      "('Current DFS path:', '0->2->3->4->5', '    Value : ', 0)\n",
      "('Current DFS path:', '0->2->3->5', '    Value : ', 1)\n",
      "('Current DFS path:', '0->2->4', '    Value : ', -1)\n",
      "('Current DFS path:', '0->2->4->5', '    Value : ', -3)\n",
      "('Current DFS path:', '0->2->5', '    Value : ', -2)\n",
      "('Current DFS path:', '0->3', '    Value : ', 4)\n",
      "('Current DFS path:', '0->3->4', '    Value : ', 3)\n",
      "('Current DFS path:', '0->3->4->5', '    Value : ', 1)\n",
      "('Current DFS path:', '0->3->5', '    Value : ', 2)\n",
      "('Current DFS path:', '0->4', '    Value : ', 0)\n",
      "('Current DFS path:', '0->4->5', '    Value : ', -2)\n",
      "('Current DFS path:', '0->5', '    Value : ', -1)\n"
     ]
    }
   ],
   "source": [
    "cheminPertinent = pertinenceMaximale(parcours, '0', '5', toPrint = True)"
   ]
  },
  {
   "cell_type": "code",
   "execution_count": 91,
   "metadata": {},
   "outputs": [
    {
     "name": "stdout",
     "output_type": "stream",
     "text": [
      "Le resultat donnée par l'algorithme :  0->1->3->5->6->8\n",
      "La valeur du chemin le plus pertinent (Max) :  2\n"
     ]
    }
   ],
   "source": [
    "print \"Le resultat donnée par l'algorithme : \", printPathOffres(parcours, cheminPertinent)\n",
    "\n",
    "print \"La valeur du chemin le plus pertinent (Max) : \", Pertinence(parcours, cheminPertinent)"
   ]
  },
  {
   "cell_type": "markdown",
   "metadata": {},
   "source": [
    "# Exemple 2:\n",
    "\n",
    "\n",
    "Un autre exemple sur une liste de 8 offres "
   ]
  },
  {
   "cell_type": "code",
   "execution_count": 87,
   "metadata": {
    "collapsed": true
   },
   "outputs": [],
   "source": [
    "listOffres = [1,0,-1,3,-2,0,0,-1,-2]\n",
    "\n",
    "parcours = buildOffreParcour(listOffres)"
   ]
  },
  {
   "cell_type": "code",
   "execution_count": 88,
   "metadata": {},
   "outputs": [
    {
     "name": "stdout",
     "output_type": "stream",
     "text": [
      "('Current DFS path:', '0', '    Value : ', 1)\n",
      "('Current DFS path:', '0->1', '    Value : ', 1)\n",
      "('Current DFS path:', '0->1->2', '    Value : ', 0)\n",
      "('Current DFS path:', '0->1->2->3', '    Value : ', 3)\n",
      "('Current DFS path:', '0->1->2->3->4', '    Value : ', 1)\n",
      "('Current DFS path:', '0->1->2->3->4->5', '    Value : ', 1)\n",
      "('Current DFS path:', '0->1->2->3->4->5->6', '    Value : ', 1)\n",
      "('Current DFS path:', '0->1->2->3->4->5->6->7', '    Value : ', 0)\n",
      "('Current DFS path:', '0->1->2->3->4->5->6->7->8', '    Value : ', -2)\n",
      "('Current DFS path:', '0->1->2->3->4->5->6->8', '    Value : ', -1)\n",
      "('Current DFS path:', '0->1->2->3->4->5->7', '    Value : ', 0)\n",
      "('Current DFS path:', '0->1->2->3->4->5->7->8', '    Value : ', -2)\n",
      "('Current DFS path:', '0->1->2->3->4->5->8', '    Value : ', -1)\n",
      "('Current DFS path:', '0->1->2->3->4->6', '    Value : ', 1)\n",
      "('Current DFS path:', '0->1->2->3->4->6->7', '    Value : ', 0)\n",
      "('Current DFS path:', '0->1->2->3->4->6->7->8', '    Value : ', -2)\n",
      "('Current DFS path:', '0->1->2->3->4->6->8', '    Value : ', -1)\n",
      "('Current DFS path:', '0->1->2->3->4->7', '    Value : ', 0)\n",
      "('Current DFS path:', '0->1->2->3->4->7->8', '    Value : ', -2)\n",
      "('Current DFS path:', '0->1->2->3->4->8', '    Value : ', -1)\n",
      "('Current DFS path:', '0->1->2->3->5', '    Value : ', 3)\n",
      "('Current DFS path:', '0->1->2->3->5->6', '    Value : ', 3)\n",
      "('Current DFS path:', '0->1->2->3->5->6->7', '    Value : ', 2)\n",
      "('Current DFS path:', '0->1->2->3->5->6->7->8', '    Value : ', 0)\n",
      "('Current DFS path:', '0->1->2->3->5->6->8', '    Value : ', 1)\n",
      "('Current DFS path:', '0->1->2->3->5->7', '    Value : ', 2)\n",
      "('Current DFS path:', '0->1->2->3->5->7->8', '    Value : ', 0)\n",
      "('Current DFS path:', '0->1->2->3->5->8', '    Value : ', 1)\n",
      "('Current DFS path:', '0->1->2->3->6', '    Value : ', 3)\n",
      "('Current DFS path:', '0->1->2->3->6->7', '    Value : ', 2)\n",
      "('Current DFS path:', '0->1->2->3->6->7->8', '    Value : ', 0)\n",
      "('Current DFS path:', '0->1->2->3->6->8', '    Value : ', 1)\n",
      "('Current DFS path:', '0->1->2->3->7', '    Value : ', 2)\n",
      "('Current DFS path:', '0->1->2->3->7->8', '    Value : ', 0)\n",
      "('Current DFS path:', '0->1->2->3->8', '    Value : ', 1)\n",
      "('Current DFS path:', '0->1->2->4', '    Value : ', -2)\n",
      "('Current DFS path:', '0->1->2->4->5', '    Value : ', -2)\n",
      "('Current DFS path:', '0->1->2->4->5->6', '    Value : ', -2)\n",
      "('Current DFS path:', '0->1->2->4->5->6->7', '    Value : ', -3)\n",
      "('Current DFS path:', '0->1->2->4->5->6->7->8', '    Value : ', -5)\n",
      "('Current DFS path:', '0->1->2->4->5->6->8', '    Value : ', -4)\n",
      "('Current DFS path:', '0->1->2->4->5->7', '    Value : ', -3)\n",
      "('Current DFS path:', '0->1->2->4->5->7->8', '    Value : ', -5)\n",
      "('Current DFS path:', '0->1->2->4->5->8', '    Value : ', -4)\n",
      "('Current DFS path:', '0->1->2->4->6', '    Value : ', -2)\n",
      "('Current DFS path:', '0->1->2->4->6->7', '    Value : ', -3)\n",
      "('Current DFS path:', '0->1->2->4->6->7->8', '    Value : ', -5)\n",
      "('Current DFS path:', '0->1->2->4->6->8', '    Value : ', -4)\n",
      "('Current DFS path:', '0->1->2->4->7', '    Value : ', -3)\n",
      "('Current DFS path:', '0->1->2->4->7->8', '    Value : ', -5)\n",
      "('Current DFS path:', '0->1->2->4->8', '    Value : ', -4)\n",
      "('Current DFS path:', '0->1->2->5', '    Value : ', 0)\n",
      "('Current DFS path:', '0->1->2->5->6', '    Value : ', 0)\n",
      "('Current DFS path:', '0->1->2->5->6->7', '    Value : ', -1)\n",
      "('Current DFS path:', '0->1->2->5->6->7->8', '    Value : ', -3)\n",
      "('Current DFS path:', '0->1->2->5->6->8', '    Value : ', -2)\n",
      "('Current DFS path:', '0->1->2->5->7', '    Value : ', -1)\n",
      "('Current DFS path:', '0->1->2->5->7->8', '    Value : ', -3)\n",
      "('Current DFS path:', '0->1->2->5->8', '    Value : ', -2)\n",
      "('Current DFS path:', '0->1->2->6', '    Value : ', 0)\n",
      "('Current DFS path:', '0->1->2->6->7', '    Value : ', -1)\n",
      "('Current DFS path:', '0->1->2->6->7->8', '    Value : ', -3)\n",
      "('Current DFS path:', '0->1->2->6->8', '    Value : ', -2)\n",
      "('Current DFS path:', '0->1->2->7', '    Value : ', -1)\n",
      "('Current DFS path:', '0->1->2->7->8', '    Value : ', -3)\n",
      "('Current DFS path:', '0->1->3', '    Value : ', 4)\n",
      "('Current DFS path:', '0->1->3->4', '    Value : ', 2)\n",
      "('Current DFS path:', '0->1->3->4->5', '    Value : ', 2)\n",
      "('Current DFS path:', '0->1->3->4->5->6', '    Value : ', 2)\n",
      "('Current DFS path:', '0->1->3->4->5->6->7', '    Value : ', 1)\n",
      "('Current DFS path:', '0->1->3->4->5->6->7->8', '    Value : ', -1)\n",
      "('Current DFS path:', '0->1->3->4->5->6->8', '    Value : ', 0)\n",
      "('Current DFS path:', '0->1->3->4->5->7', '    Value : ', 1)\n",
      "('Current DFS path:', '0->1->3->4->5->7->8', '    Value : ', -1)\n",
      "('Current DFS path:', '0->1->3->4->5->8', '    Value : ', 0)\n",
      "('Current DFS path:', '0->1->3->4->6', '    Value : ', 2)\n",
      "('Current DFS path:', '0->1->3->4->6->7', '    Value : ', 1)\n",
      "('Current DFS path:', '0->1->3->4->6->7->8', '    Value : ', -1)\n",
      "('Current DFS path:', '0->1->3->4->6->8', '    Value : ', 0)\n",
      "('Current DFS path:', '0->1->3->4->7', '    Value : ', 1)\n",
      "('Current DFS path:', '0->1->3->4->7->8', '    Value : ', -1)\n",
      "('Current DFS path:', '0->1->3->4->8', '    Value : ', 0)\n",
      "('Current DFS path:', '0->1->3->5', '    Value : ', 4)\n",
      "('Current DFS path:', '0->1->3->5->6', '    Value : ', 4)\n",
      "('Current DFS path:', '0->1->3->5->6->7', '    Value : ', 3)\n",
      "('Current DFS path:', '0->1->3->5->6->7->8', '    Value : ', 1)\n",
      "('Current DFS path:', '0->1->3->5->6->8', '    Value : ', 2)\n",
      "('Current DFS path:', '0->1->3->5->7', '    Value : ', 3)\n",
      "('Current DFS path:', '0->1->3->5->7->8', '    Value : ', 1)\n",
      "('Current DFS path:', '0->1->3->5->8', '    Value : ', 2)\n",
      "('Current DFS path:', '0->1->3->6', '    Value : ', 4)\n",
      "('Current DFS path:', '0->1->3->6->7', '    Value : ', 3)\n",
      "('Current DFS path:', '0->1->3->6->7->8', '    Value : ', 1)\n",
      "('Current DFS path:', '0->1->3->6->8', '    Value : ', 2)\n",
      "('Current DFS path:', '0->1->3->7', '    Value : ', 3)\n",
      "('Current DFS path:', '0->1->3->7->8', '    Value : ', 1)\n",
      "('Current DFS path:', '0->1->3->8', '    Value : ', 2)\n",
      "('Current DFS path:', '0->1->4', '    Value : ', -1)\n",
      "('Current DFS path:', '0->1->4->5', '    Value : ', -1)\n",
      "('Current DFS path:', '0->1->4->5->6', '    Value : ', -1)\n",
      "('Current DFS path:', '0->1->4->5->6->7', '    Value : ', -2)\n",
      "('Current DFS path:', '0->1->4->5->6->7->8', '    Value : ', -4)\n",
      "('Current DFS path:', '0->1->4->5->6->8', '    Value : ', -3)\n",
      "('Current DFS path:', '0->1->4->5->7', '    Value : ', -2)\n",
      "('Current DFS path:', '0->1->4->5->7->8', '    Value : ', -4)\n",
      "('Current DFS path:', '0->1->4->5->8', '    Value : ', -3)\n",
      "('Current DFS path:', '0->1->4->6', '    Value : ', -1)\n",
      "('Current DFS path:', '0->1->4->6->7', '    Value : ', -2)\n",
      "('Current DFS path:', '0->1->4->6->7->8', '    Value : ', -4)\n",
      "('Current DFS path:', '0->1->4->6->8', '    Value : ', -3)\n",
      "('Current DFS path:', '0->1->4->7', '    Value : ', -2)\n",
      "('Current DFS path:', '0->1->4->7->8', '    Value : ', -4)\n",
      "('Current DFS path:', '0->1->4->8', '    Value : ', -3)\n",
      "('Current DFS path:', '0->1->5', '    Value : ', 1)\n",
      "('Current DFS path:', '0->1->5->6', '    Value : ', 1)\n",
      "('Current DFS path:', '0->1->5->6->7', '    Value : ', 0)\n",
      "('Current DFS path:', '0->1->5->6->7->8', '    Value : ', -2)\n",
      "('Current DFS path:', '0->1->5->6->8', '    Value : ', -1)\n",
      "('Current DFS path:', '0->1->5->7', '    Value : ', 0)\n",
      "('Current DFS path:', '0->1->5->7->8', '    Value : ', -2)\n",
      "('Current DFS path:', '0->1->5->8', '    Value : ', -1)\n",
      "('Current DFS path:', '0->1->6', '    Value : ', 1)\n",
      "('Current DFS path:', '0->1->6->7', '    Value : ', 0)\n",
      "('Current DFS path:', '0->1->6->7->8', '    Value : ', -2)\n",
      "('Current DFS path:', '0->1->6->8', '    Value : ', -1)\n",
      "('Current DFS path:', '0->2', '    Value : ', 0)\n",
      "('Current DFS path:', '0->2->3', '    Value : ', 3)\n",
      "('Current DFS path:', '0->2->3->4', '    Value : ', 1)\n",
      "('Current DFS path:', '0->2->3->4->5', '    Value : ', 1)\n",
      "('Current DFS path:', '0->2->3->4->5->6', '    Value : ', 1)\n",
      "('Current DFS path:', '0->2->3->4->5->6->7', '    Value : ', 0)\n",
      "('Current DFS path:', '0->2->3->4->5->6->7->8', '    Value : ', -2)\n",
      "('Current DFS path:', '0->2->3->4->5->6->8', '    Value : ', -1)\n",
      "('Current DFS path:', '0->2->3->4->5->7', '    Value : ', 0)\n",
      "('Current DFS path:', '0->2->3->4->5->7->8', '    Value : ', -2)\n",
      "('Current DFS path:', '0->2->3->4->5->8', '    Value : ', -1)\n",
      "('Current DFS path:', '0->2->3->4->6', '    Value : ', 1)\n",
      "('Current DFS path:', '0->2->3->4->6->7', '    Value : ', 0)\n",
      "('Current DFS path:', '0->2->3->4->6->7->8', '    Value : ', -2)\n",
      "('Current DFS path:', '0->2->3->4->6->8', '    Value : ', -1)\n",
      "('Current DFS path:', '0->2->3->4->7', '    Value : ', 0)\n",
      "('Current DFS path:', '0->2->3->4->7->8', '    Value : ', -2)\n",
      "('Current DFS path:', '0->2->3->4->8', '    Value : ', -1)\n",
      "('Current DFS path:', '0->2->3->5', '    Value : ', 3)\n",
      "('Current DFS path:', '0->2->3->5->6', '    Value : ', 3)\n",
      "('Current DFS path:', '0->2->3->5->6->7', '    Value : ', 2)\n",
      "('Current DFS path:', '0->2->3->5->6->7->8', '    Value : ', 0)\n",
      "('Current DFS path:', '0->2->3->5->6->8', '    Value : ', 1)\n",
      "('Current DFS path:', '0->2->3->5->7', '    Value : ', 2)\n",
      "('Current DFS path:', '0->2->3->5->7->8', '    Value : ', 0)\n",
      "('Current DFS path:', '0->2->3->5->8', '    Value : ', 1)\n",
      "('Current DFS path:', '0->2->3->6', '    Value : ', 3)\n",
      "('Current DFS path:', '0->2->3->6->7', '    Value : ', 2)\n",
      "('Current DFS path:', '0->2->3->6->7->8', '    Value : ', 0)\n",
      "('Current DFS path:', '0->2->3->6->8', '    Value : ', 1)\n",
      "('Current DFS path:', '0->2->3->7', '    Value : ', 2)\n",
      "('Current DFS path:', '0->2->3->7->8', '    Value : ', 0)\n",
      "('Current DFS path:', '0->2->3->8', '    Value : ', 1)\n",
      "('Current DFS path:', '0->2->4', '    Value : ', -2)\n",
      "('Current DFS path:', '0->2->4->5', '    Value : ', -2)\n",
      "('Current DFS path:', '0->2->4->5->6', '    Value : ', -2)\n",
      "('Current DFS path:', '0->2->4->5->6->7', '    Value : ', -3)\n",
      "('Current DFS path:', '0->2->4->5->6->7->8', '    Value : ', -5)\n",
      "('Current DFS path:', '0->2->4->5->6->8', '    Value : ', -4)\n",
      "('Current DFS path:', '0->2->4->5->7', '    Value : ', -3)\n",
      "('Current DFS path:', '0->2->4->5->7->8', '    Value : ', -5)\n",
      "('Current DFS path:', '0->2->4->5->8', '    Value : ', -4)\n",
      "('Current DFS path:', '0->2->4->6', '    Value : ', -2)\n",
      "('Current DFS path:', '0->2->4->6->7', '    Value : ', -3)\n",
      "('Current DFS path:', '0->2->4->6->7->8', '    Value : ', -5)\n",
      "('Current DFS path:', '0->2->4->6->8', '    Value : ', -4)\n",
      "('Current DFS path:', '0->2->4->7', '    Value : ', -3)\n",
      "('Current DFS path:', '0->2->4->7->8', '    Value : ', -5)\n",
      "('Current DFS path:', '0->2->4->8', '    Value : ', -4)\n",
      "('Current DFS path:', '0->2->5', '    Value : ', 0)\n",
      "('Current DFS path:', '0->2->5->6', '    Value : ', 0)\n",
      "('Current DFS path:', '0->2->5->6->7', '    Value : ', -1)\n",
      "('Current DFS path:', '0->2->5->6->7->8', '    Value : ', -3)\n",
      "('Current DFS path:', '0->2->5->6->8', '    Value : ', -2)\n",
      "('Current DFS path:', '0->2->5->7', '    Value : ', -1)\n",
      "('Current DFS path:', '0->2->5->7->8', '    Value : ', -3)\n",
      "('Current DFS path:', '0->2->5->8', '    Value : ', -2)\n",
      "('Current DFS path:', '0->2->6', '    Value : ', 0)\n",
      "('Current DFS path:', '0->2->6->7', '    Value : ', -1)\n",
      "('Current DFS path:', '0->2->6->7->8', '    Value : ', -3)\n",
      "('Current DFS path:', '0->2->6->8', '    Value : ', -2)\n",
      "('Current DFS path:', '0->2->7', '    Value : ', -1)\n",
      "('Current DFS path:', '0->2->7->8', '    Value : ', -3)\n",
      "('Current DFS path:', '0->3', '    Value : ', 4)\n",
      "('Current DFS path:', '0->3->4', '    Value : ', 2)\n",
      "('Current DFS path:', '0->3->4->5', '    Value : ', 2)\n",
      "('Current DFS path:', '0->3->4->5->6', '    Value : ', 2)\n",
      "('Current DFS path:', '0->3->4->5->6->7', '    Value : ', 1)\n",
      "('Current DFS path:', '0->3->4->5->6->7->8', '    Value : ', -1)\n",
      "('Current DFS path:', '0->3->4->5->6->8', '    Value : ', 0)\n",
      "('Current DFS path:', '0->3->4->5->7', '    Value : ', 1)\n",
      "('Current DFS path:', '0->3->4->5->7->8', '    Value : ', -1)\n",
      "('Current DFS path:', '0->3->4->5->8', '    Value : ', 0)\n",
      "('Current DFS path:', '0->3->4->6', '    Value : ', 2)\n",
      "('Current DFS path:', '0->3->4->6->7', '    Value : ', 1)\n",
      "('Current DFS path:', '0->3->4->6->7->8', '    Value : ', -1)\n",
      "('Current DFS path:', '0->3->4->6->8', '    Value : ', 0)\n",
      "('Current DFS path:', '0->3->4->7', '    Value : ', 1)\n",
      "('Current DFS path:', '0->3->4->7->8', '    Value : ', -1)\n",
      "('Current DFS path:', '0->3->4->8', '    Value : ', 0)\n",
      "('Current DFS path:', '0->3->5', '    Value : ', 4)\n",
      "('Current DFS path:', '0->3->5->6', '    Value : ', 4)\n",
      "('Current DFS path:', '0->3->5->6->7', '    Value : ', 3)\n",
      "('Current DFS path:', '0->3->5->6->7->8', '    Value : ', 1)\n",
      "('Current DFS path:', '0->3->5->6->8', '    Value : ', 2)\n",
      "('Current DFS path:', '0->3->5->7', '    Value : ', 3)\n",
      "('Current DFS path:', '0->3->5->7->8', '    Value : ', 1)\n",
      "('Current DFS path:', '0->3->5->8', '    Value : ', 2)\n",
      "('Current DFS path:', '0->3->6', '    Value : ', 4)\n",
      "('Current DFS path:', '0->3->6->7', '    Value : ', 3)\n",
      "('Current DFS path:', '0->3->6->7->8', '    Value : ', 1)\n",
      "('Current DFS path:', '0->3->6->8', '    Value : ', 2)\n",
      "('Current DFS path:', '0->3->7', '    Value : ', 3)\n",
      "('Current DFS path:', '0->3->7->8', '    Value : ', 1)\n",
      "('Current DFS path:', '0->3->8', '    Value : ', 2)\n",
      "('Current DFS path:', '0->4', '    Value : ', -1)\n",
      "('Current DFS path:', '0->4->5', '    Value : ', -1)\n",
      "('Current DFS path:', '0->4->5->6', '    Value : ', -1)\n",
      "('Current DFS path:', '0->4->5->6->7', '    Value : ', -2)\n",
      "('Current DFS path:', '0->4->5->6->7->8', '    Value : ', -4)\n",
      "('Current DFS path:', '0->4->5->6->8', '    Value : ', -3)\n",
      "('Current DFS path:', '0->4->5->7', '    Value : ', -2)\n",
      "('Current DFS path:', '0->4->5->7->8', '    Value : ', -4)\n",
      "('Current DFS path:', '0->4->5->8', '    Value : ', -3)\n",
      "('Current DFS path:', '0->4->6', '    Value : ', -1)\n",
      "('Current DFS path:', '0->4->6->7', '    Value : ', -2)\n",
      "('Current DFS path:', '0->4->6->7->8', '    Value : ', -4)\n",
      "('Current DFS path:', '0->4->6->8', '    Value : ', -3)\n",
      "('Current DFS path:', '0->4->7', '    Value : ', -2)\n",
      "('Current DFS path:', '0->4->7->8', '    Value : ', -4)\n",
      "('Current DFS path:', '0->4->8', '    Value : ', -3)\n",
      "('Current DFS path:', '0->5', '    Value : ', 1)\n",
      "('Current DFS path:', '0->5->6', '    Value : ', 1)\n",
      "('Current DFS path:', '0->5->6->7', '    Value : ', 0)\n",
      "('Current DFS path:', '0->5->6->7->8', '    Value : ', -2)\n",
      "('Current DFS path:', '0->5->6->8', '    Value : ', -1)\n",
      "('Current DFS path:', '0->5->7', '    Value : ', 0)\n",
      "('Current DFS path:', '0->5->7->8', '    Value : ', -2)\n",
      "('Current DFS path:', '0->5->8', '    Value : ', -1)\n"
     ]
    }
   ],
   "source": [
    "cheminPertinent = pertinenceMaximale(parcours, '0', '8', toPrint = True)"
   ]
  },
  {
   "cell_type": "code",
   "execution_count": 90,
   "metadata": {},
   "outputs": [
    {
     "name": "stdout",
     "output_type": "stream",
     "text": [
      "Le resultat donnée par l'algorithme :  0->1->3->5->6->8\n",
      "La valeur du chemin le plus pertinent (Max) :  2\n"
     ]
    }
   ],
   "source": [
    "print \"Le resultat donnée par l'algorithme : \", printPathOffres(parcours, cheminPertinent)\n",
    "\n",
    "print \"La valeur du chemin le plus pertinent (Max) : \", Pertinence(parcours, cheminPertinent)"
   ]
  },
  {
   "cell_type": "markdown",
   "metadata": {},
   "source": [
    "# Conclusion et limitations : \n",
    "\n",
    "* La méthode implémentée ici est d'une compléxité O(V+E) (où : V est le nombre d'offres et E nombre de parcours possible)\n",
    "\n",
    "* Lors de la comparaison de deux chemins ces derniers peuvent avoir la même pertinence, dans ce cas d'égalité on peut maintenir le chemin le plus court si nous sommes dans un contexte d'affichage publicitaire, etc. Dans ma solution je me suis contenté juste de prendre la premier.\n",
    "\n"
   ]
  }
 ],
 "metadata": {
  "kernelspec": {
   "display_name": "Python 2",
   "language": "python",
   "name": "python2"
  },
  "language_info": {
   "codemirror_mode": {
    "name": "ipython",
    "version": 2
   },
   "file_extension": ".py",
   "mimetype": "text/x-python",
   "name": "python",
   "nbconvert_exporter": "python",
   "pygments_lexer": "ipython2",
   "version": "2.7.12"
  }
 },
 "nbformat": 4,
 "nbformat_minor": 2
}
